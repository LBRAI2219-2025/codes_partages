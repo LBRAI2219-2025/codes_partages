{
 "cells": [
  {
   "cell_type": "markdown",
   "metadata": {
    "deletable": true,
    "editable": true
   },
   "source": [
    "MECHA:\n",
    "Upon this generated cross-section and the cell hydraulic properties defined in Hydraulic.xml MECHA estimates the radial hydraulic conductivities (for three scenarios: 1 = an endodermal casparian strip, 2 = a fully suberized endodermis, 3 = fully suberized endodermis and a casparian strip on the exodermis.\n",
    "\n",
    "Change kernel to Python to launch the following script. Once the kernel is changed, all variables stored in R are gone."
   ]
  },
  {
   "cell_type": "code",
   "execution_count": null,
   "metadata": {
    "collapsed": false,
    "deletable": true,
    "editable": true
   },
   "outputs": [],
   "source": [
    "from mecha_function import *\n",
    "mecha()"
   ]
  },
  {
   "cell_type": "code",
   "execution_count": null,
   "id": "adb8454f",
   "metadata": {},
   "outputs": [],
   "source": [
    "from mecha_function2 import *\n",
    "mecha2()"
   ]
  },
  {
   "cell_type": "code",
   "execution_count": 11,
   "id": "5e95a67d",
   "metadata": {},
   "outputs": [],
   "source": [
    "%%capture captured_output\n",
    "\n",
    "mecha()\n",
    "\n",
    "directory2 = \"C:/Users/potam/OneDrive - UCL/Documents/UCL/MASTER/MASTER 2/Q2/Model biologiques/Projet final2/MARSHAL/inputs/\"\n",
    "\n",
    "\n",
    "with open(directory2 + 'output_MECHA_tap.txt', 'w') as f:\n",
    "    f.write(str(captured_output))"
   ]
  },
  {
   "cell_type": "code",
   "execution_count": 13,
   "id": "48e229b4",
   "metadata": {},
   "outputs": [],
   "source": [
    "%%capture captured_output2\n",
    "\n",
    "mecha2()\n",
    "\n",
    "directory3 = \"C:/Users/potam/OneDrive - UCL/Documents/UCL/MASTER/MASTER 2/Q2/Model biologiques/Projet final2/MARSHAL/inputs/\"\n",
    "\n",
    "\n",
    "with open(directory3 + 'output_MECHA_lat.txt', 'w') as f:\n",
    "    f.write(str(captured_output2))"
   ]
  }
 ],
 "metadata": {
  "kernelspec": {
   "display_name": "Python 3",
   "language": "python",
   "name": "python3"
  },
  "language_info": {
   "codemirror_mode": {
    "name": "ipython",
    "version": 3
   },
   "file_extension": ".py",
   "mimetype": "text/x-python",
   "name": "python",
   "nbconvert_exporter": "python",
   "pygments_lexer": "ipython3",
   "version": "3.7.4"
  }
 },
 "nbformat": 4,
 "nbformat_minor": 5
}
