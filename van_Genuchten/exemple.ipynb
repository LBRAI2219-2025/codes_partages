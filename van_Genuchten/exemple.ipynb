{
 "cells": [
  {
   "cell_type": "code",
   "execution_count": 17,
   "id": "6f6ade2d",
   "metadata": {},
   "outputs": [
    {
     "name": "stdout",
     "output_type": "stream",
     "text": [
      "Requirement already satisfied: pynverse in /Users/mattias/opt/miniconda3/envs/datasc/lib/python3.9/site-packages (0.1.4.4)\r\n",
      "Requirement already satisfied: numpy>=1.6 in /Users/mattias/opt/miniconda3/envs/datasc/lib/python3.9/site-packages (from pynverse) (1.23.2)\r\n",
      "Requirement already satisfied: scipy>=0.11 in /Users/mattias/opt/miniconda3/envs/datasc/lib/python3.9/site-packages (from pynverse) (1.9.3)\r\n"
     ]
    }
   ],
   "source": [
    "# il faut absolument que la librairie pynverse soit installée : \n",
    "!pip install pynverse"
   ]
  },
  {
   "cell_type": "code",
   "execution_count": 21,
   "id": "f36b2cca",
   "metadata": {},
   "outputs": [],
   "source": [
    "import pandas as pd\n",
    "# importer toutes les functions du fichier source\n",
    "from van_genuchten import vanGenuchten, analytical_inv_vanGenuchten, compute_avg, compute_water_stock, compute_new_psi, export_psi, inv_vanGenuchten"
   ]
  },
  {
   "cell_type": "markdown",
   "id": "6e2d2d5e",
   "metadata": {},
   "source": [
    "Pour commencer, il faut calculer le stock d'eau de base correspondant aux valeurs de $\\Psi$ données dans `soil.csv`. "
   ]
  },
  {
   "cell_type": "code",
   "execution_count": 19,
   "id": "af10e65b",
   "metadata": {},
   "outputs": [
    {
     "name": "stdout",
     "output_type": "stream",
     "text": [
      "0   -15000\n",
      "1     -300\n",
      "2     -300\n",
      "3     -300\n",
      "Name: psi, dtype: int64\n",
      "\n",
      "\n",
      "valeurs moyennes : [0.16599028919245717, 0.24137274049152085, 0.24137274049152085]\n",
      "Total water content in the soil is = 25.9494 cm or 259494.3081 cm3\n"
     ]
    }
   ],
   "source": [
    "soil= pd.read_csv('./soil.csv')\n",
    "psis = soil['psi']\n",
    "print(psi0)  # affiche les valeurs dans le csv\n",
    "print('\\n')\n",
    "avg = compute_avg(psis)\n",
    "print('valeurs moyennes : ' + str(avg))   # print les valeurs moyenne de theta, cm^3/cm^3\n",
    "stock = compute_water_stock(avg, verbatim=True)"
   ]
  },
  {
   "cell_type": "markdown",
   "id": "0d767288",
   "metadata": {},
   "source": [
    "On connait maintenant le stock d'eau initial. Si la transpiration donnée par MARSHAL est de 700 $cm^3/jour$ alors on peut calculer les nouvelles valeurs de $\\Psi$ qui correspondent au stock d'eau restant $S_i = S_0 - T$. attention de bien **exprimer les valeurs en $cm^3$ !!**"
   ]
  },
  {
   "cell_type": "code",
   "execution_count": 22,
   "id": "da769d5b",
   "metadata": {},
   "outputs": [
    {
     "name": "stdout",
     "output_type": "stream",
     "text": [
      "New values of psi are : [-15000, -308.74461929866385, -308.74461929866385, -308.74461929866385]\n"
     ]
    }
   ],
   "source": [
    "new_values_of_psi = compute_new_psi(S0=259494.3081, T=700, export=True, verbatim=True)"
   ]
  },
  {
   "cell_type": "markdown",
   "id": "76609d59",
   "metadata": {},
   "source": [
    "Maintenant on peut retourner dans MARSHAL et faire un nouveau run avec les nouvelles valeurs qui se trouvent dans le fichier `new_soil.csv` dans le directory `./new_csv`, refaire tourner le script ici et ainsi de suite! Bon travail! :)"
   ]
  }
 ],
 "metadata": {
  "kernelspec": {
   "display_name": "datasc",
   "language": "python",
   "name": "datasc"
  },
  "language_info": {
   "codemirror_mode": {
    "name": "ipython",
    "version": 3
   },
   "file_extension": ".py",
   "mimetype": "text/x-python",
   "name": "python",
   "nbconvert_exporter": "python",
   "pygments_lexer": "ipython3",
   "version": "3.9.13"
  }
 },
 "nbformat": 4,
 "nbformat_minor": 5
}
